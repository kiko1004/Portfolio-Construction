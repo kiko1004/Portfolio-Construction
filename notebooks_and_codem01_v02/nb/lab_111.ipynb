{
 "cells": [
  {
   "cell_type": "markdown",
   "metadata": {},
   "source": [
    "# Lack of Robustness of the Markowitz procedure and the GMV portfolio\n",
    "\n",
    "Although the promise of the Markowitz procedure is exciting, in tends to fall apart in practice. The problem is that we rarely know Expected Returns and Expected Covariance in advance. Our estimates almost certainly contain some estimation error, and we'll see that the procedure is highly sensitive to these errors, which tend to get exaggerated in the portfolio.\n",
    "\n",
    "To see this, let's start by loading up our data as usual."
   ]
  },
  {
   "cell_type": "code",
   "execution_count": 2,
   "metadata": {},
   "outputs": [],
   "source": [
    "import os\n",
    "os.getcwd()\n",
    "os.chdir(\"C:\\\\Users\\\\kiril\\\\Desktop\\\\WD\\\\Python\\\\\")"
   ]
  },
  {
   "cell_type": "code",
   "execution_count": 27,
   "metadata": {},
   "outputs": [
    {
     "name": "stdout",
     "output_type": "stream",
     "text": [
      "The autoreload extension is already loaded. To reload it, use:\n",
      "  %reload_ext autoreload\n"
     ]
    }
   ],
   "source": [
    "%load_ext autoreload\n",
    "%autoreload 2\n",
    "%matplotlib inline\n",
    "import Functions as erk\n",
    "\n",
    "ind = erk.get_ind_returns()\n",
    "er = erk.annualize_rets(ind[\"1996\":\"2000\"], 12)\n",
    "cov = ind[\"1996\":\"2000\"].cov()"
   ]
  },
  {
   "cell_type": "markdown",
   "metadata": {},
   "source": [
    "Let's look at a simple 2-asset portfolio and find the optimal weights if we had known what the returns would be."
   ]
  },
  {
   "cell_type": "code",
   "execution_count": 9,
   "metadata": {},
   "outputs": [
    {
     "data": {
      "text/plain": [
       "array([0.75040363, 0.24959637])"
      ]
     },
     "execution_count": 9,
     "metadata": {},
     "output_type": "execute_result"
    }
   ],
   "source": [
    "l = [\"Food\", \"Steel\"]\n",
    "import numpy as np\n",
    "erk.msr(0.1, np.array(er[l]), cov.loc[l,l])"
   ]
  },
  {
   "cell_type": "markdown",
   "metadata": {},
   "source": [
    "Let's look at the returns of the two assets that dictated those weights"
   ]
  },
  {
   "cell_type": "code",
   "execution_count": 35,
   "metadata": {},
   "outputs": [
    {
     "data": {
      "text/plain": [
       "Food     0.116799\n",
       "Steel    0.115809\n",
       "dtype: float64"
      ]
     },
     "execution_count": 35,
     "metadata": {},
     "output_type": "execute_result"
    }
   ],
   "source": [
    "er[l]"
   ]
  },
  {
   "cell_type": "markdown",
   "metadata": {},
   "source": [
    "Now assume that we had a really good estimator, and we were off by only a fraction of a percent in our estimate, and we had estimated a return of 11 and 12 percent respectively for Food and Steel"
   ]
  },
  {
   "cell_type": "code",
   "execution_count": 11,
   "metadata": {},
   "outputs": [
    {
     "data": {
      "text/plain": [
       "array([0.57930354, 0.42069646])"
      ]
     },
     "execution_count": 11,
     "metadata": {},
     "output_type": "execute_result"
    }
   ],
   "source": [
    "erk.msr(0.1, np.array([.11, .12]), cov.loc[l,l])"
   ]
  },
  {
   "cell_type": "markdown",
   "metadata": {},
   "source": [
    "We see that even a small change in the estimate causes a major change in the weights. What if we were off by around 1% to 2% percent in each estimate and estimated 10% and 13% instead of the return of 11.6% and 11.5%?"
   ]
  },
  {
   "cell_type": "code",
   "execution_count": 12,
   "metadata": {},
   "outputs": [
    {
     "data": {
      "text/plain": [
       "array([0., 1.])"
      ]
     },
     "execution_count": 12,
     "metadata": {},
     "output_type": "execute_result"
    }
   ],
   "source": [
    "erk.msr(0.1, np.array([.10, .13]), cov.loc[l,l])"
   ]
  },
  {
   "cell_type": "markdown",
   "metadata": {},
   "source": [
    "And if we had made the _same_ estimation error, but the error went the other way (13% and 10%)?"
   ]
  },
  {
   "cell_type": "code",
   "execution_count": 13,
   "metadata": {},
   "outputs": [
    {
     "data": {
      "text/plain": [
       "array([1., 0.])"
      ]
     },
     "execution_count": 13,
     "metadata": {},
     "output_type": "execute_result"
    }
   ],
   "source": [
    "erk.msr(0.1, np.array([.13, .10]), cov.loc[l,l])"
   ]
  },
  {
   "cell_type": "markdown",
   "metadata": {},
   "source": [
    "# Avoiding estimating returns\n",
    "\n",
    "Let's look at the efficient frontier one more time, and plot the efficient frontier again.\n"
   ]
  },
  {
   "cell_type": "code",
   "execution_count": 17,
   "metadata": {},
   "outputs": [
    {
     "data": {
      "image/png": "[encoded data removed]",
      "text/plain": [
       "<Figure size 432x288 with 1 Axes>"
      ]
     },
     "metadata": {
      "needs_background": "light"
     },
     "output_type": "display_data"
    }
   ],
   "source": [
    "erk.plot_ef(20, er, cov, show_cml=True, riskfree_rate=0.1)"
   ]
  },
  {
   "cell_type": "markdown",
   "metadata": {},
   "source": [
    "One way to avoid this estimation game is to skip the entire process and just rely on _naive_ diversification, which means hold all stocks with equal weight. We can add the EW portfolio to the plot by enhancing the `plot_ef` function as follows:\n",
    "\n",
    "```python\n",
    "    if show_ew:\n",
    "        n = er.shape[0]\n",
    "        w_ew = np.repeat(1/n, n)\n",
    "        r_ew = portfolio_return(w_ew, er)\n",
    "        vol_ew = portfolio_vol(w_ew, cov)\n",
    "        # add EW\n",
    "        ax.plot([vol_ew], [r_ew], color='goldenrod', marker='o', markersize=10)\n",
    "```\n"
   ]
  },
  {
   "cell_type": "code",
   "execution_count": 9,
   "metadata": {},
   "outputs": [
    {
     "data": {
      "image/png": "[encoded data removed]",
      "text/plain": [
       "<Figure size 432x288 with 1 Axes>"
      ]
     },
     "metadata": {
      "needs_background": "light"
     },
     "output_type": "display_data"
    }
   ],
   "source": [
    "erk.plot_ef(20, er, cov, show_cml=True, riskfree_rate=0.1, show_ew=True)"
   ]
  },
  {
   "cell_type": "markdown",
   "metadata": {},
   "source": [
    "Researchers have shown that the EW portfolio is a remarkably good portfolio to hold. In fact, there is overwhelming siupport for the idea that it is a far better portfolio to hold than a cap-weighted equivalent. We'll examine this in later sections, but as you can see, the EW portfolio is far inside the efficient frontier, but it requires no estimation whatsoever.\n",
    "\n",
    "However, there is another point on the efficient frontier that is very interesting. This is the _nose_ of the hull, which is the portfolio of lowest volatility across all possible portfolios. This is called the Minimum Volatility or the Global Minimum Volatility or GMV portfolio.\n",
    "\n",
    "But how do we find the weights of the GMV portfolio?\n",
    "\n",
    "The interesting thing about it is that if you assume that all returns are the same, the optimizer cannot improve the sharpe ratio through raising returns, and so it must do so my lowering volatility. This means that if we just skip any returns estimation and assume all returns have the return, we'd get the weights of the GMV portfolio!\n",
    "\n",
    "```python\n",
    "def gmv(cov):\n",
    "    \"\"\"\n",
    "    Returns the weights of the Global Minimum Volatility portfolio\n",
    "    given a covariance matrix\n",
    "    \"\"\"\n",
    "    n = cov.shape[0]\n",
    "    return msr(0, np.repeat(1, n), cov)\n",
    "```\n",
    "\n",
    "and we can add that to the plot as follows:\n",
    "\n",
    "```python\n",
    "    if show_gmv:\n",
    "        w_gmv = gmv(cov)\n",
    "        r_gmv = portfolio_return(w_gmv, er)\n",
    "        vol_gmv = portfolio_vol(w_gmv, cov)\n",
    "        # add EW\n",
    "        ax.plot([vol_gmv], [r_gmv], color='midnightblue', marker='o', markersize=10)\n",
    "```\n"
   ]
  },
  {
   "cell_type": "code",
   "execution_count": 19,
   "metadata": {},
   "outputs": [
    {
     "data": {
      "text/plain": [
       "<matplotlib.axes._subplots.AxesSubplot at 0x290d7b08e80>"
      ]
     },
     "execution_count": 19,
     "metadata": {},
     "output_type": "execute_result"
    },
    {
     "data": {
      "image/png": "[encoded data removed]",
      "text/plain": [
       "<Figure size 432x288 with 1 Axes>"
      ]
     },
     "metadata": {
      "needs_background": "light"
     },
     "output_type": "display_data"
    }
   ],
   "source": [
    "erk.plot_ef(20, er, cov, show_cml=True, riskfree_rate=0.1, show_ew=True, show_gmv=True)"
   ]
  },
  {
   "cell_type": "code",
   "execution_count": 5,
   "metadata": {},
   "outputs": [
    {
     "data": {
      "text/plain": [
       "Food     0.116799\n",
       "Beer     0.141126\n",
       "Smoke    0.107830\n",
       "Games    0.068212\n",
       "Books    0.187286\n",
       "Hshld    0.134766\n",
       "Clths    0.079160\n",
       "Hlth     0.246641\n",
       "Chems    0.077456\n",
       "Txtls   -0.042721\n",
       "Cnstr    0.084076\n",
       "Steel    0.115809\n",
       "FabPr    0.108280\n",
       "ElcEq    0.272420\n",
       "Autos    0.080954\n",
       "Carry    0.173904\n",
       "Mines   -0.053554\n",
       "Coal     0.414689\n",
       "Oil      0.165377\n",
       "Util     0.145903\n",
       "Telcm    0.122771\n",
       "Servs    0.175264\n",
       "BusEq    0.271952\n",
       "Paper    0.097163\n",
       "Trans    0.071099\n",
       "Whlsl    0.126431\n",
       "Rtail    0.207247\n",
       "Meals    0.067400\n",
       "Fin      0.223371\n",
       "Other    0.043349\n",
       "dtype: float64"
      ]
     },
     "execution_count": 5,
     "metadata": {},
     "output_type": "execute_result"
    }
   ],
   "source": [
    "er"
   ]
  },
  {
   "cell_type": "code",
   "execution_count": 6,
   "metadata": {},
   "outputs": [
    {
     "data": {
      "text/html": [
       "<div>\n",
       "<style scoped>\n",
       "    .dataframe tbody tr th:only-of-type {\n",
       "        vertical-align: middle;\n",
       "    }\n",
       "\n",
       "    .dataframe tbody tr th {\n",
       "        vertical-align: top;\n",
       "    }\n",
       "\n",
       "    .dataframe thead th {\n",
       "        text-align: right;\n",
       "    }\n",
       "</style>\n",
       "<table border=\"1\" class=\"dataframe\">\n",
       "  <thead>\n",
       "    <tr style=\"text-align: right;\">\n",
       "      <th></th>\n",
       "      <th>Food</th>\n",
       "      <th>Beer</th>\n",
       "      <th>Smoke</th>\n",
       "      <th>Games</th>\n",
       "      <th>Books</th>\n",
       "      <th>Hshld</th>\n",
       "      <th>Clths</th>\n",
       "      <th>Hlth</th>\n",
       "      <th>Chems</th>\n",
       "      <th>Txtls</th>\n",
       "      <th>...</th>\n",
       "      <th>Telcm</th>\n",
       "      <th>Servs</th>\n",
       "      <th>BusEq</th>\n",
       "      <th>Paper</th>\n",
       "      <th>Trans</th>\n",
       "      <th>Whlsl</th>\n",
       "      <th>Rtail</th>\n",
       "      <th>Meals</th>\n",
       "      <th>Fin</th>\n",
       "      <th>Other</th>\n",
       "    </tr>\n",
       "  </thead>\n",
       "  <tbody>\n",
       "    <tr>\n",
       "      <th>1926-07</th>\n",
       "      <td>0.0056</td>\n",
       "      <td>-0.0519</td>\n",
       "      <td>0.0129</td>\n",
       "      <td>0.0293</td>\n",
       "      <td>0.1097</td>\n",
       "      <td>-0.0048</td>\n",
       "      <td>0.0808</td>\n",
       "      <td>0.0177</td>\n",
       "      <td>0.0814</td>\n",
       "      <td>0.0039</td>\n",
       "      <td>...</td>\n",
       "      <td>0.0083</td>\n",
       "      <td>0.0922</td>\n",
       "      <td>0.0206</td>\n",
       "      <td>0.0770</td>\n",
       "      <td>0.0193</td>\n",
       "      <td>-0.2379</td>\n",
       "      <td>0.0007</td>\n",
       "      <td>0.0187</td>\n",
       "      <td>0.0037</td>\n",
       "      <td>0.0520</td>\n",
       "    </tr>\n",
       "    <tr>\n",
       "      <th>1926-08</th>\n",
       "      <td>0.0259</td>\n",
       "      <td>0.2703</td>\n",
       "      <td>0.0650</td>\n",
       "      <td>0.0055</td>\n",
       "      <td>0.1001</td>\n",
       "      <td>-0.0358</td>\n",
       "      <td>-0.0251</td>\n",
       "      <td>0.0425</td>\n",
       "      <td>0.0550</td>\n",
       "      <td>0.0814</td>\n",
       "      <td>...</td>\n",
       "      <td>0.0217</td>\n",
       "      <td>0.0202</td>\n",
       "      <td>0.0439</td>\n",
       "      <td>-0.0238</td>\n",
       "      <td>0.0488</td>\n",
       "      <td>0.0539</td>\n",
       "      <td>-0.0075</td>\n",
       "      <td>-0.0013</td>\n",
       "      <td>0.0446</td>\n",
       "      <td>0.0676</td>\n",
       "    </tr>\n",
       "    <tr>\n",
       "      <th>1926-09</th>\n",
       "      <td>0.0116</td>\n",
       "      <td>0.0402</td>\n",
       "      <td>0.0126</td>\n",
       "      <td>0.0658</td>\n",
       "      <td>-0.0099</td>\n",
       "      <td>0.0073</td>\n",
       "      <td>-0.0051</td>\n",
       "      <td>0.0069</td>\n",
       "      <td>0.0533</td>\n",
       "      <td>0.0231</td>\n",
       "      <td>...</td>\n",
       "      <td>0.0241</td>\n",
       "      <td>0.0225</td>\n",
       "      <td>0.0019</td>\n",
       "      <td>-0.0554</td>\n",
       "      <td>0.0005</td>\n",
       "      <td>-0.0787</td>\n",
       "      <td>0.0025</td>\n",
       "      <td>-0.0056</td>\n",
       "      <td>-0.0123</td>\n",
       "      <td>-0.0386</td>\n",
       "    </tr>\n",
       "    <tr>\n",
       "      <th>1926-10</th>\n",
       "      <td>-0.0306</td>\n",
       "      <td>-0.0331</td>\n",
       "      <td>0.0106</td>\n",
       "      <td>-0.0476</td>\n",
       "      <td>0.0947</td>\n",
       "      <td>-0.0468</td>\n",
       "      <td>0.0012</td>\n",
       "      <td>-0.0057</td>\n",
       "      <td>-0.0476</td>\n",
       "      <td>0.0100</td>\n",
       "      <td>...</td>\n",
       "      <td>-0.0011</td>\n",
       "      <td>-0.0200</td>\n",
       "      <td>-0.0109</td>\n",
       "      <td>-0.0508</td>\n",
       "      <td>-0.0264</td>\n",
       "      <td>-0.1538</td>\n",
       "      <td>-0.0220</td>\n",
       "      <td>-0.0411</td>\n",
       "      <td>-0.0516</td>\n",
       "      <td>-0.0849</td>\n",
       "    </tr>\n",
       "    <tr>\n",
       "      <th>1926-11</th>\n",
       "      <td>0.0635</td>\n",
       "      <td>0.0729</td>\n",
       "      <td>0.0455</td>\n",
       "      <td>0.0166</td>\n",
       "      <td>-0.0580</td>\n",
       "      <td>-0.0054</td>\n",
       "      <td>0.0187</td>\n",
       "      <td>0.0542</td>\n",
       "      <td>0.0520</td>\n",
       "      <td>0.0311</td>\n",
       "      <td>...</td>\n",
       "      <td>0.0163</td>\n",
       "      <td>0.0377</td>\n",
       "      <td>0.0364</td>\n",
       "      <td>0.0384</td>\n",
       "      <td>0.0160</td>\n",
       "      <td>0.0467</td>\n",
       "      <td>0.0652</td>\n",
       "      <td>0.0433</td>\n",
       "      <td>0.0224</td>\n",
       "      <td>0.0400</td>\n",
       "    </tr>\n",
       "    <tr>\n",
       "      <th>...</th>\n",
       "      <td>...</td>\n",
       "      <td>...</td>\n",
       "      <td>...</td>\n",
       "      <td>...</td>\n",
       "      <td>...</td>\n",
       "      <td>...</td>\n",
       "      <td>...</td>\n",
       "      <td>...</td>\n",
       "      <td>...</td>\n",
       "      <td>...</td>\n",
       "      <td>...</td>\n",
       "      <td>...</td>\n",
       "      <td>...</td>\n",
       "      <td>...</td>\n",
       "      <td>...</td>\n",
       "      <td>...</td>\n",
       "      <td>...</td>\n",
       "      <td>...</td>\n",
       "      <td>...</td>\n",
       "      <td>...</td>\n",
       "      <td>...</td>\n",
       "    </tr>\n",
       "    <tr>\n",
       "      <th>2018-08</th>\n",
       "      <td>-0.0038</td>\n",
       "      <td>-0.0186</td>\n",
       "      <td>-0.0543</td>\n",
       "      <td>0.0289</td>\n",
       "      <td>-0.0447</td>\n",
       "      <td>0.0254</td>\n",
       "      <td>0.0526</td>\n",
       "      <td>0.0446</td>\n",
       "      <td>0.0001</td>\n",
       "      <td>0.0380</td>\n",
       "      <td>...</td>\n",
       "      <td>0.0295</td>\n",
       "      <td>0.0524</td>\n",
       "      <td>0.0993</td>\n",
       "      <td>-0.0034</td>\n",
       "      <td>0.0291</td>\n",
       "      <td>0.0366</td>\n",
       "      <td>0.0911</td>\n",
       "      <td>0.0364</td>\n",
       "      <td>0.0245</td>\n",
       "      <td>0.0299</td>\n",
       "    </tr>\n",
       "    <tr>\n",
       "      <th>2018-09</th>\n",
       "      <td>-0.0032</td>\n",
       "      <td>0.0019</td>\n",
       "      <td>0.0537</td>\n",
       "      <td>-0.0009</td>\n",
       "      <td>-0.0221</td>\n",
       "      <td>0.0107</td>\n",
       "      <td>0.0130</td>\n",
       "      <td>0.0199</td>\n",
       "      <td>-0.0287</td>\n",
       "      <td>-0.0638</td>\n",
       "      <td>...</td>\n",
       "      <td>0.0174</td>\n",
       "      <td>-0.0037</td>\n",
       "      <td>-0.0033</td>\n",
       "      <td>-0.0030</td>\n",
       "      <td>0.0105</td>\n",
       "      <td>-0.0148</td>\n",
       "      <td>0.0061</td>\n",
       "      <td>0.0251</td>\n",
       "      <td>-0.0193</td>\n",
       "      <td>0.0116</td>\n",
       "    </tr>\n",
       "    <tr>\n",
       "      <th>2018-10</th>\n",
       "      <td>0.0102</td>\n",
       "      <td>-0.0157</td>\n",
       "      <td>0.0790</td>\n",
       "      <td>-0.1596</td>\n",
       "      <td>-0.0666</td>\n",
       "      <td>-0.0051</td>\n",
       "      <td>-0.1014</td>\n",
       "      <td>-0.0884</td>\n",
       "      <td>-0.1250</td>\n",
       "      <td>-0.2579</td>\n",
       "      <td>...</td>\n",
       "      <td>-0.0050</td>\n",
       "      <td>-0.0920</td>\n",
       "      <td>-0.0806</td>\n",
       "      <td>-0.0982</td>\n",
       "      <td>-0.0975</td>\n",
       "      <td>-0.0788</td>\n",
       "      <td>-0.1021</td>\n",
       "      <td>-0.0171</td>\n",
       "      <td>-0.0545</td>\n",
       "      <td>-0.0599</td>\n",
       "    </tr>\n",
       "    <tr>\n",
       "      <th>2018-11</th>\n",
       "      <td>0.0272</td>\n",
       "      <td>0.0579</td>\n",
       "      <td>-0.0843</td>\n",
       "      <td>-0.0065</td>\n",
       "      <td>0.0325</td>\n",
       "      <td>0.0644</td>\n",
       "      <td>-0.0099</td>\n",
       "      <td>0.0632</td>\n",
       "      <td>0.0496</td>\n",
       "      <td>0.0292</td>\n",
       "      <td>...</td>\n",
       "      <td>0.0254</td>\n",
       "      <td>0.0129</td>\n",
       "      <td>-0.0505</td>\n",
       "      <td>0.0822</td>\n",
       "      <td>0.0617</td>\n",
       "      <td>0.0318</td>\n",
       "      <td>0.0159</td>\n",
       "      <td>0.0616</td>\n",
       "      <td>0.0289</td>\n",
       "      <td>0.0348</td>\n",
       "    </tr>\n",
       "    <tr>\n",
       "      <th>2018-12</th>\n",
       "      <td>-0.0973</td>\n",
       "      <td>-0.0969</td>\n",
       "      <td>-0.1580</td>\n",
       "      <td>-0.0824</td>\n",
       "      <td>-0.1535</td>\n",
       "      <td>-0.0557</td>\n",
       "      <td>-0.0728</td>\n",
       "      <td>-0.0840</td>\n",
       "      <td>-0.0776</td>\n",
       "      <td>-0.1009</td>\n",
       "      <td>...</td>\n",
       "      <td>-0.0884</td>\n",
       "      <td>-0.0765</td>\n",
       "      <td>-0.0923</td>\n",
       "      <td>-0.0863</td>\n",
       "      <td>-0.1519</td>\n",
       "      <td>-0.1121</td>\n",
       "      <td>-0.0919</td>\n",
       "      <td>-0.0628</td>\n",
       "      <td>-0.1144</td>\n",
       "      <td>-0.0693</td>\n",
       "    </tr>\n",
       "  </tbody>\n",
       "</table>\n",
       "<p>1110 rows × 30 columns</p>\n",
       "</div>"
      ],
      "text/plain": [
       "           Food    Beer   Smoke   Games   Books   Hshld   Clths    Hlth  \\\n",
       "1926-07  0.0056 -0.0519  0.0129  0.0293  0.1097 -0.0048  0.0808  0.0177   \n",
       "1926-08  0.0259  0.2703  0.0650  0.0055  0.1001 -0.0358 -0.0251  0.0425   \n",
       "1926-09  0.0116  0.0402  0.0126  0.0658 -0.0099  0.0073 -0.0051  0.0069   \n",
       "1926-10 -0.0306 -0.0331  0.0106 -0.0476  0.0947 -0.0468  0.0012 -0.0057   \n",
       "1926-11  0.0635  0.0729  0.0455  0.0166 -0.0580 -0.0054  0.0187  0.0542   \n",
       "...         ...     ...     ...     ...     ...     ...     ...     ...   \n",
       "2018-08 -0.0038 -0.0186 -0.0543  0.0289 -0.0447  0.0254  0.0526  0.0446   \n",
       "2018-09 -0.0032  0.0019  0.0537 -0.0009 -0.0221  0.0107  0.0130  0.0199   \n",
       "2018-10  0.0102 -0.0157  0.0790 -0.1596 -0.0666 -0.0051 -0.1014 -0.0884   \n",
       "2018-11  0.0272  0.0579 -0.0843 -0.0065  0.0325  0.0644 -0.0099  0.0632   \n",
       "2018-12 -0.0973 -0.0969 -0.1580 -0.0824 -0.1535 -0.0557 -0.0728 -0.0840   \n",
       "\n",
       "          Chems   Txtls  ...   Telcm   Servs   BusEq   Paper   Trans   Whlsl  \\\n",
       "1926-07  0.0814  0.0039  ...  0.0083  0.0922  0.0206  0.0770  0.0193 -0.2379   \n",
       "1926-08  0.0550  0.0814  ...  0.0217  0.0202  0.0439 -0.0238  0.0488  0.0539   \n",
       "1926-09  0.0533  0.0231  ...  0.0241  0.0225  0.0019 -0.0554  0.0005 -0.0787   \n",
       "1926-10 -0.0476  0.0100  ... -0.0011 -0.0200 -0.0109 -0.0508 -0.0264 -0.1538   \n",
       "1926-11  0.0520  0.0311  ...  0.0163  0.0377  0.0364  0.0384  0.0160  0.0467   \n",
       "...         ...     ...  ...     ...     ...     ...     ...     ...     ...   \n",
       "2018-08  0.0001  0.0380  ...  0.0295  0.0524  0.0993 -0.0034  0.0291  0.0366   \n",
       "2018-09 -0.0287 -0.0638  ...  0.0174 -0.0037 -0.0033 -0.0030  0.0105 -0.0148   \n",
       "2018-10 -0.1250 -0.2579  ... -0.0050 -0.0920 -0.0806 -0.0982 -0.0975 -0.0788   \n",
       "2018-11  0.0496  0.0292  ...  0.0254  0.0129 -0.0505  0.0822  0.0617  0.0318   \n",
       "2018-12 -0.0776 -0.1009  ... -0.0884 -0.0765 -0.0923 -0.0863 -0.1519 -0.1121   \n",
       "\n",
       "          Rtail   Meals     Fin   Other  \n",
       "1926-07  0.0007  0.0187  0.0037  0.0520  \n",
       "1926-08 -0.0075 -0.0013  0.0446  0.0676  \n",
       "1926-09  0.0025 -0.0056 -0.0123 -0.0386  \n",
       "1926-10 -0.0220 -0.0411 -0.0516 -0.0849  \n",
       "1926-11  0.0652  0.0433  0.0224  0.0400  \n",
       "...         ...     ...     ...     ...  \n",
       "2018-08  0.0911  0.0364  0.0245  0.0299  \n",
       "2018-09  0.0061  0.0251 -0.0193  0.0116  \n",
       "2018-10 -0.1021 -0.0171 -0.0545 -0.0599  \n",
       "2018-11  0.0159  0.0616  0.0289  0.0348  \n",
       "2018-12 -0.0919 -0.0628 -0.1144 -0.0693  \n",
       "\n",
       "[1110 rows x 30 columns]"
      ]
     },
     "execution_count": 6,
     "metadata": {},
     "output_type": "execute_result"
    }
   ],
   "source": [
    "ind"
   ]
  },
  {
   "cell_type": "code",
   "execution_count": 26,
   "metadata": {},
   "outputs": [
    {
     "data": {
      "text/plain": [
       "array([0.0313, 0.    , 0.0084, 0.0024, 0.    , 0.0782, 0.    , 0.0649,\n",
       "       0.    , 0.    , 0.    , 0.    , 0.    , 0.    , 0.    , 0.    ,\n",
       "       0.    , 0.    , 0.    , 0.4829, 0.0315, 0.    , 0.1013, 0.    ,\n",
       "       0.    , 0.    , 0.0839, 0.1152, 0.    , 0.    ])"
      ]
     },
     "execution_count": 26,
     "metadata": {},
     "output_type": "execute_result"
    }
   ],
   "source": [
    "np.round(erk.gmv(cov),4)"
   ]
  },
  {
   "cell_type": "code",
   "execution_count": 65,
   "metadata": {},
   "outputs": [
    {
     "name": "stdout",
     "output_type": "stream",
     "text": [
      "MSR portfolio is:\n",
      "           0\n",
      "Food   0.000\n",
      "Beer   0.000\n",
      "Smoke  0.000\n",
      "Games  0.000\n",
      "Books  0.000\n",
      "Hshld  0.000\n",
      "Clths  0.000\n",
      "Hlth   0.287\n",
      "Chems  0.000\n",
      "Txtls  0.000\n",
      "Cnstr  0.000\n",
      "Steel  0.000\n",
      "FabPr  0.000\n",
      "ElcEq  0.032\n",
      "Autos  0.000\n",
      "Carry  0.000\n",
      "Mines  0.000\n",
      "Coal   0.060\n",
      "Oil    0.000\n",
      "Util   0.352\n",
      "Telcm  0.000\n",
      "Servs  0.000\n",
      "BusEq  0.080\n",
      "Paper  0.000\n",
      "Trans  0.000\n",
      "Whlsl  0.000\n",
      "Rtail  0.188\n",
      "Meals  0.000\n",
      "Fin    0.000\n",
      "Other  0.000\n",
      "GMV protfolio is:\n",
      "           0\n",
      "Food   0.031\n",
      "Beer   0.000\n",
      "Smoke  0.008\n",
      "Games  0.002\n",
      "Books  0.000\n",
      "Hshld  0.078\n",
      "Clths  0.000\n",
      "Hlth   0.065\n",
      "Chems  0.000\n",
      "Txtls  0.000\n",
      "Cnstr  0.000\n",
      "Steel  0.000\n",
      "FabPr  0.000\n",
      "ElcEq  0.000\n",
      "Autos  0.000\n",
      "Carry  0.000\n",
      "Mines  0.000\n",
      "Coal   0.000\n",
      "Oil    0.000\n",
      "Util   0.483\n",
      "Telcm  0.032\n",
      "Servs  0.000\n",
      "BusEq  0.101\n",
      "Paper  0.000\n",
      "Trans  0.000\n",
      "Whlsl  0.000\n",
      "Rtail  0.084\n",
      "Meals  0.115\n",
      "Fin    0.000\n",
      "Other  0.000\n",
      "EW portfolio is:\n",
      "           0\n",
      "Food   0.033\n",
      "Beer   0.033\n",
      "Smoke  0.033\n",
      "Games  0.033\n",
      "Books  0.033\n",
      "Hshld  0.033\n",
      "Clths  0.033\n",
      "Hlth   0.033\n",
      "Chems  0.033\n",
      "Txtls  0.033\n",
      "Cnstr  0.033\n",
      "Steel  0.033\n",
      "FabPr  0.033\n",
      "ElcEq  0.033\n",
      "Autos  0.033\n",
      "Carry  0.033\n",
      "Mines  0.033\n",
      "Coal   0.033\n",
      "Oil    0.033\n",
      "Util   0.033\n",
      "Telcm  0.033\n",
      "Servs  0.033\n",
      "BusEq  0.033\n",
      "Paper  0.033\n",
      "Trans  0.033\n",
      "Whlsl  0.033\n",
      "Rtail  0.033\n",
      "Meals  0.033\n",
      "Fin    0.033\n",
      "Other  0.033\n"
     ]
    },
    {
     "data": {
      "image/png": "[encoded data removed]",
      "text/plain": [
       "<Figure size 1080x432 with 1 Axes>"
      ]
     },
     "metadata": {
      "needs_background": "light"
     },
     "output_type": "display_data"
    },
    {
     "data": {
      "image/png": "[encoded data removed]",
      "text/plain": [
       "<Figure size 1080x432 with 1 Axes>"
      ]
     },
     "metadata": {
      "needs_background": "light"
     },
     "output_type": "display_data"
    },
    {
     "data": {
      "image/png": "[encoded data removed]",
      "text/plain": [
       "<Figure size 1080x432 with 1 Axes>"
      ]
     },
     "metadata": {
      "needs_background": "light"
     },
     "output_type": "display_data"
    }
   ],
   "source": [
    "erk.get_portfolios(er, cov)"
   ]
  },
  {
   "cell_type": "code",
   "execution_count": 50,
   "metadata": {},
   "outputs": [
    {
     "data": {
      "text/plain": [
       "Index(['Food', 'Beer', 'Smoke', 'Games', 'Books', 'Hshld', 'Clths', 'Hlth',\n",
       "       'Chems', 'Txtls', 'Cnstr', 'Steel', 'FabPr', 'ElcEq', 'Autos', 'Carry',\n",
       "       'Mines', 'Coal', 'Oil', 'Util', 'Telcm', 'Servs', 'BusEq', 'Paper',\n",
       "       'Trans', 'Whlsl', 'Rtail', 'Meals', 'Fin', 'Other'],\n",
       "      dtype='object')"
      ]
     },
     "execution_count": 50,
     "metadata": {},
     "output_type": "execute_result"
    }
   ],
   "source": [
    "er.index"
   ]
  },
  {
   "cell_type": "code",
   "execution_count": 42,
   "metadata": {},
   "outputs": [],
   "source": [
    "w_msr = erk.msr(0, er, cov)"
   ]
  },
  {
   "cell_type": "code",
   "execution_count": 44,
   "metadata": {},
   "outputs": [],
   "source": [
    "w_gmv = erk.gmv(cov)"
   ]
  },
  {
   "cell_type": "code",
   "execution_count": 46,
   "metadata": {},
   "outputs": [],
   "source": [
    "n = er.shape[0]\n",
    "w_ew = np.repeat(1/n, n)"
   ]
  },
  {
   "cell_type": "code",
   "execution_count": 52,
   "metadata": {},
   "outputs": [],
   "source": [
    "np.round(w_msr,3)\n",
    "import pandas as pd"
   ]
  },
  {
   "cell_type": "code",
   "execution_count": 56,
   "metadata": {},
   "outputs": [],
   "source": [
    "msrD = pd.DataFrame(data = np.round(w_msr,3), index = er.index)"
   ]
  },
  {
   "cell_type": "code",
   "execution_count": 59,
   "metadata": {},
   "outputs": [
    {
     "data": {
      "text/plain": [
       "<matplotlib.axes._subplots.AxesSubplot at 0x290d8e92280>"
      ]
     },
     "execution_count": 59,
     "metadata": {},
     "output_type": "execute_result"
    },
    {
     "data": {
      "image/png": "[encoded data removed]",
      "text/plain": [
       "<Figure size 720x432 with 1 Axes>"
      ]
     },
     "metadata": {
      "needs_background": "light"
     },
     "output_type": "display_data"
    }
   ],
   "source": [
    "msrD.plot.bar(figsize=(10, 6))"
   ]
  },
  {
   "cell_type": "code",
   "execution_count": null,
   "metadata": {},
   "outputs": [],
   "source": []
  }
 ],
 "metadata": {
  "kernelspec": {
   "display_name": "Python 3",
   "language": "python",
   "name": "python3"
  },
  "language_info": {
   "codemirror_mode": {
    "name": "ipython",
    "version": 3
   },
   "file_extension": ".py",
   "mimetype": "text/x-python",
   "name": "python",
   "nbconvert_exporter": "python",
   "pygments_lexer": "ipython3",
   "version": "3.8.3"
  }
 },
 "nbformat": 4,
 "nbformat_minor": 4
}
