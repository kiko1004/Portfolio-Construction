{
 "cells": [
  {
   "cell_type": "code",
   "execution_count": 7,
   "metadata": {},
   "outputs": [],
   "source": [
    "import os\n",
    "os.getcwd()\n",
    "os.chdir(\"C:\\\\Users\\\\kiril\\\\Desktop\\\\WD\\\\Python\\\\\")"
   ]
  },
  {
   "cell_type": "code",
   "execution_count": 8,
   "metadata": {},
   "outputs": [
    {
     "name": "stdout",
     "output_type": "stream",
     "text": [
      "The autoreload extension is already loaded. To reload it, use:\n",
      "  %reload_ext autoreload\n"
     ]
    }
   ],
   "source": [
    "%load_ext autoreload\n",
    "%autoreload 2\n",
    "%matplotlib inline\n",
    "import Functions as erk\n",
    "\n",
    "ind = erk.get_ind_returns()\n",
    "er = erk.annualize_rets(ind[\"2013\":\"2017\"], 12)\n",
    "cov = ind[\"2013\":\"2017\"].cov()"
   ]
  },
  {
   "cell_type": "code",
   "execution_count": 9,
   "metadata": {},
   "outputs": [],
   "source": [
    "\n",
    "l = ['Books', 'Steel', 'Oil', 'Mines']"
   ]
  },
  {
   "cell_type": "code",
   "execution_count": 10,
   "metadata": {},
   "outputs": [],
   "source": [
    "er = er[l]"
   ]
  },
  {
   "cell_type": "code",
   "execution_count": 11,
   "metadata": {},
   "outputs": [],
   "source": [
    "ind = ind[\"2013\":\"2017\"][l]"
   ]
  },
  {
   "cell_type": "code",
   "execution_count": 12,
   "metadata": {},
   "outputs": [
    {
     "data": {
      "text/plain": [
       "Books    0.095312\n",
       "Steel    0.100716\n",
       "Oil      0.025275\n",
       "Mines    0.005136\n",
       "dtype: float64"
      ]
     },
     "execution_count": 12,
     "metadata": {},
     "output_type": "execute_result"
    }
   ],
   "source": [
    "er"
   ]
  },
  {
   "cell_type": "code",
   "execution_count": 13,
   "metadata": {},
   "outputs": [],
   "source": [
    "cov = ind.cov()"
   ]
  },
  {
   "cell_type": "code",
   "execution_count": 14,
   "metadata": {},
   "outputs": [
    {
     "data": {
      "text/html": [
       "<div>\n",
       "<style scoped>\n",
       "    .dataframe tbody tr th:only-of-type {\n",
       "        vertical-align: middle;\n",
       "    }\n",
       "\n",
       "    .dataframe tbody tr th {\n",
       "        vertical-align: top;\n",
       "    }\n",
       "\n",
       "    .dataframe thead th {\n",
       "        text-align: right;\n",
       "    }\n",
       "</style>\n",
       "<table border=\"1\" class=\"dataframe\">\n",
       "  <thead>\n",
       "    <tr style=\"text-align: right;\">\n",
       "      <th></th>\n",
       "      <th>Books</th>\n",
       "      <th>Steel</th>\n",
       "      <th>Oil</th>\n",
       "      <th>Mines</th>\n",
       "    </tr>\n",
       "  </thead>\n",
       "  <tbody>\n",
       "    <tr>\n",
       "      <th>Books</th>\n",
       "      <td>0.002720</td>\n",
       "      <td>0.001940</td>\n",
       "      <td>0.001637</td>\n",
       "      <td>0.001539</td>\n",
       "    </tr>\n",
       "    <tr>\n",
       "      <th>Steel</th>\n",
       "      <td>0.001940</td>\n",
       "      <td>0.004391</td>\n",
       "      <td>0.002122</td>\n",
       "      <td>0.003391</td>\n",
       "    </tr>\n",
       "    <tr>\n",
       "      <th>Oil</th>\n",
       "      <td>0.001637</td>\n",
       "      <td>0.002122</td>\n",
       "      <td>0.002697</td>\n",
       "      <td>0.002179</td>\n",
       "    </tr>\n",
       "    <tr>\n",
       "      <th>Mines</th>\n",
       "      <td>0.001539</td>\n",
       "      <td>0.003391</td>\n",
       "      <td>0.002179</td>\n",
       "      <td>0.005232</td>\n",
       "    </tr>\n",
       "  </tbody>\n",
       "</table>\n",
       "</div>"
      ],
      "text/plain": [
       "          Books     Steel       Oil     Mines\n",
       "Books  0.002720  0.001940  0.001637  0.001539\n",
       "Steel  0.001940  0.004391  0.002122  0.003391\n",
       "Oil    0.001637  0.002122  0.002697  0.002179\n",
       "Mines  0.001539  0.003391  0.002179  0.005232"
      ]
     },
     "execution_count": 14,
     "metadata": {},
     "output_type": "execute_result"
    }
   ],
   "source": [
    "cov"
   ]
  },
  {
   "cell_type": "code",
   "execution_count": 15,
   "metadata": {},
   "outputs": [
    {
     "data": {
      "text/plain": [
       "array([0.47702487, 0.        , 0.43411203, 0.0888631 ])"
      ]
     },
     "execution_count": 15,
     "metadata": {},
     "output_type": "execute_result"
    }
   ],
   "source": [
    "erk.gmv(cov)"
   ]
  },
  {
   "cell_type": "code",
   "execution_count": 16,
   "metadata": {},
   "outputs": [
    {
     "name": "stdout",
     "output_type": "stream",
     "text": [
      "MSR portfolio is:\n",
      "           0\n",
      "Books  0.715\n",
      "Steel  0.285\n",
      "Oil    0.000\n",
      "Mines  0.000\n",
      "GMV protfolio is:\n",
      "           0\n",
      "Books  0.477\n",
      "Steel  0.000\n",
      "Oil    0.434\n",
      "Mines  0.089\n",
      "EW portfolio is:\n",
      "          0\n",
      "Books  0.25\n",
      "Steel  0.25\n",
      "Oil    0.25\n",
      "Mines  0.25\n"
     ]
    },
    {
     "data": {
      "image/png": "[encoded data removed]",
      "text/plain": [
       "<Figure size 1080x432 with 1 Axes>"
      ]
     },
     "metadata": {
      "needs_background": "light"
     },
     "output_type": "display_data"
    },
    {
     "data": {
      "image/png": "[encoded data removed]",
      "text/plain": [
       "<Figure size 1080x432 with 1 Axes>"
      ]
     },
     "metadata": {
      "needs_background": "light"
     },
     "output_type": "display_data"
    },
    {
     "data": {
      "image/png": "[encoded data removed]",
      "text/plain": [
       "<Figure size 1080x432 with 1 Axes>"
      ]
     },
     "metadata": {
      "needs_background": "light"
     },
     "output_type": "display_data"
    }
   ],
   "source": [
    "erk.get_portfolios(er,cov)"
   ]
  },
  {
   "cell_type": "code",
   "execution_count": 17,
   "metadata": {},
   "outputs": [],
   "source": [
    "ind = erk.get_ind_returns()"
   ]
  },
  {
   "cell_type": "code",
   "execution_count": 18,
   "metadata": {},
   "outputs": [],
   "source": [
    "import numpy as np\n",
    "msr_weig = np.array([0,1,0,0])\n",
    "gmv_weig = np.array([0.477,0,0.434,0.88])"
   ]
  },
  {
   "cell_type": "code",
   "execution_count": 19,
   "metadata": {},
   "outputs": [],
   "source": [
    "newCov = ind['2018'][l].cov()"
   ]
  },
  {
   "cell_type": "code",
   "execution_count": 20,
   "metadata": {},
   "outputs": [],
   "source": [
    "msr_vol = erk.portfolio_vol(msr_weig,newCov)\n",
    "gmv_vol = erk.portfolio_vol(gmv_weig,newCov)"
   ]
  },
  {
   "cell_type": "code",
   "execution_count": 21,
   "metadata": {},
   "outputs": [
    {
     "data": {
      "text/html": [
       "<div>\n",
       "<style scoped>\n",
       "    .dataframe tbody tr th:only-of-type {\n",
       "        vertical-align: middle;\n",
       "    }\n",
       "\n",
       "    .dataframe tbody tr th {\n",
       "        vertical-align: top;\n",
       "    }\n",
       "\n",
       "    .dataframe thead th {\n",
       "        text-align: right;\n",
       "    }\n",
       "</style>\n",
       "<table border=\"1\" class=\"dataframe\">\n",
       "  <thead>\n",
       "    <tr style=\"text-align: right;\">\n",
       "      <th></th>\n",
       "      <th>Books</th>\n",
       "      <th>Steel</th>\n",
       "      <th>Oil</th>\n",
       "      <th>Mines</th>\n",
       "    </tr>\n",
       "  </thead>\n",
       "  <tbody>\n",
       "    <tr>\n",
       "      <th>2018-01</th>\n",
       "      <td>0.0449</td>\n",
       "      <td>0.0361</td>\n",
       "      <td>0.0286</td>\n",
       "      <td>0.0357</td>\n",
       "    </tr>\n",
       "    <tr>\n",
       "      <th>2018-02</th>\n",
       "      <td>-0.0325</td>\n",
       "      <td>-0.0199</td>\n",
       "      <td>-0.1102</td>\n",
       "      <td>-0.0335</td>\n",
       "    </tr>\n",
       "    <tr>\n",
       "      <th>2018-03</th>\n",
       "      <td>0.0031</td>\n",
       "      <td>-0.0586</td>\n",
       "      <td>0.0308</td>\n",
       "      <td>-0.0015</td>\n",
       "    </tr>\n",
       "    <tr>\n",
       "      <th>2018-04</th>\n",
       "      <td>-0.0062</td>\n",
       "      <td>0.0366</td>\n",
       "      <td>0.1030</td>\n",
       "      <td>-0.0339</td>\n",
       "    </tr>\n",
       "    <tr>\n",
       "      <th>2018-05</th>\n",
       "      <td>-0.0061</td>\n",
       "      <td>0.0562</td>\n",
       "      <td>0.0343</td>\n",
       "      <td>0.0308</td>\n",
       "    </tr>\n",
       "    <tr>\n",
       "      <th>2018-06</th>\n",
       "      <td>0.0218</td>\n",
       "      <td>-0.0514</td>\n",
       "      <td>0.0052</td>\n",
       "      <td>-0.0178</td>\n",
       "    </tr>\n",
       "    <tr>\n",
       "      <th>2018-07</th>\n",
       "      <td>-0.0417</td>\n",
       "      <td>0.0424</td>\n",
       "      <td>0.0104</td>\n",
       "      <td>-0.0224</td>\n",
       "    </tr>\n",
       "    <tr>\n",
       "      <th>2018-08</th>\n",
       "      <td>-0.0447</td>\n",
       "      <td>-0.0323</td>\n",
       "      <td>-0.0295</td>\n",
       "      <td>-0.1075</td>\n",
       "    </tr>\n",
       "    <tr>\n",
       "      <th>2018-09</th>\n",
       "      <td>-0.0221</td>\n",
       "      <td>-0.0067</td>\n",
       "      <td>0.0356</td>\n",
       "      <td>-0.0173</td>\n",
       "    </tr>\n",
       "    <tr>\n",
       "      <th>2018-10</th>\n",
       "      <td>-0.0666</td>\n",
       "      <td>-0.1161</td>\n",
       "      <td>-0.1206</td>\n",
       "      <td>-0.1032</td>\n",
       "    </tr>\n",
       "    <tr>\n",
       "      <th>2018-11</th>\n",
       "      <td>0.0325</td>\n",
       "      <td>-0.0300</td>\n",
       "      <td>-0.0233</td>\n",
       "      <td>-0.0095</td>\n",
       "    </tr>\n",
       "    <tr>\n",
       "      <th>2018-12</th>\n",
       "      <td>-0.1535</td>\n",
       "      <td>-0.1478</td>\n",
       "      <td>-0.1325</td>\n",
       "      <td>-0.0706</td>\n",
       "    </tr>\n",
       "  </tbody>\n",
       "</table>\n",
       "</div>"
      ],
      "text/plain": [
       "          Books   Steel     Oil   Mines\n",
       "2018-01  0.0449  0.0361  0.0286  0.0357\n",
       "2018-02 -0.0325 -0.0199 -0.1102 -0.0335\n",
       "2018-03  0.0031 -0.0586  0.0308 -0.0015\n",
       "2018-04 -0.0062  0.0366  0.1030 -0.0339\n",
       "2018-05 -0.0061  0.0562  0.0343  0.0308\n",
       "2018-06  0.0218 -0.0514  0.0052 -0.0178\n",
       "2018-07 -0.0417  0.0424  0.0104 -0.0224\n",
       "2018-08 -0.0447 -0.0323 -0.0295 -0.1075\n",
       "2018-09 -0.0221 -0.0067  0.0356 -0.0173\n",
       "2018-10 -0.0666 -0.1161 -0.1206 -0.1032\n",
       "2018-11  0.0325 -0.0300 -0.0233 -0.0095\n",
       "2018-12 -0.1535 -0.1478 -0.1325 -0.0706"
      ]
     },
     "execution_count": 21,
     "metadata": {},
     "output_type": "execute_result"
    }
   ],
   "source": [
    "ind['2018'][l]"
   ]
  },
  {
   "cell_type": "code",
   "execution_count": 22,
   "metadata": {},
   "outputs": [
    {
     "data": {
      "text/html": [
       "<div>\n",
       "<style scoped>\n",
       "    .dataframe tbody tr th:only-of-type {\n",
       "        vertical-align: middle;\n",
       "    }\n",
       "\n",
       "    .dataframe tbody tr th {\n",
       "        vertical-align: top;\n",
       "    }\n",
       "\n",
       "    .dataframe thead th {\n",
       "        text-align: right;\n",
       "    }\n",
       "</style>\n",
       "<table border=\"1\" class=\"dataframe\">\n",
       "  <thead>\n",
       "    <tr style=\"text-align: right;\">\n",
       "      <th></th>\n",
       "      <th>Books</th>\n",
       "      <th>Steel</th>\n",
       "      <th>Oil</th>\n",
       "      <th>Mines</th>\n",
       "    </tr>\n",
       "  </thead>\n",
       "  <tbody>\n",
       "    <tr>\n",
       "      <th>Books</th>\n",
       "      <td>0.002799</td>\n",
       "      <td>0.002098</td>\n",
       "      <td>0.002558</td>\n",
       "      <td>0.001629</td>\n",
       "    </tr>\n",
       "    <tr>\n",
       "      <th>Steel</th>\n",
       "      <td>0.002098</td>\n",
       "      <td>0.004027</td>\n",
       "      <td>0.003473</td>\n",
       "      <td>0.001843</td>\n",
       "    </tr>\n",
       "    <tr>\n",
       "      <th>Oil</th>\n",
       "      <td>0.002558</td>\n",
       "      <td>0.003473</td>\n",
       "      <td>0.005296</td>\n",
       "      <td>0.001961</td>\n",
       "    </tr>\n",
       "    <tr>\n",
       "      <th>Mines</th>\n",
       "      <td>0.001629</td>\n",
       "      <td>0.001843</td>\n",
       "      <td>0.001961</td>\n",
       "      <td>0.002059</td>\n",
       "    </tr>\n",
       "  </tbody>\n",
       "</table>\n",
       "</div>"
      ],
      "text/plain": [
       "          Books     Steel       Oil     Mines\n",
       "Books  0.002799  0.002098  0.002558  0.001629\n",
       "Steel  0.002098  0.004027  0.003473  0.001843\n",
       "Oil    0.002558  0.003473  0.005296  0.001961\n",
       "Mines  0.001629  0.001843  0.001961  0.002059"
      ]
     },
     "execution_count": 22,
     "metadata": {},
     "output_type": "execute_result"
    }
   ],
   "source": [
    "newCov"
   ]
  },
  {
   "cell_type": "code",
   "execution_count": 23,
   "metadata": {},
   "outputs": [
    {
     "data": {
      "text/plain": [
       "21.983988181484186"
      ]
     },
     "execution_count": 23,
     "metadata": {},
     "output_type": "execute_result"
    }
   ],
   "source": [
    "erk.annualize_vol_compiled(msr_vol,12)*100"
   ]
  },
  {
   "cell_type": "code",
   "execution_count": 24,
   "metadata": {},
   "outputs": [
    {
     "data": {
      "text/plain": [
       "29.298148442147948"
      ]
     },
     "execution_count": 24,
     "metadata": {},
     "output_type": "execute_result"
    }
   ],
   "source": [
    "erk.annualize_vol_compiled(gmv_vol,12)*100"
   ]
  },
  {
   "cell_type": "code",
   "execution_count": null,
   "metadata": {},
   "outputs": [],
   "source": []
  },
  {
   "cell_type": "code",
   "execution_count": null,
   "metadata": {},
   "outputs": [],
   "source": []
  }
 ],
 "metadata": {
  "kernelspec": {
   "display_name": "Python 3",
   "language": "python",
   "name": "python3"
  },
  "language_info": {
   "codemirror_mode": {
    "name": "ipython",
    "version": 3
   },
   "file_extension": ".py",
   "mimetype": "text/x-python",
   "name": "python",
   "nbconvert_exporter": "python",
   "pygments_lexer": "ipython3",
   "version": "3.8.3"
  }
 },
 "nbformat": 4,
 "nbformat_minor": 4
}
